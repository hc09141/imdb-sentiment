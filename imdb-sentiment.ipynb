{
 "cells": [
  {
   "cell_type": "code",
   "execution_count": 5,
   "metadata": {},
   "outputs": [
    {
     "name": "stderr",
     "output_type": "stream",
     "text": [
      "C:\\Users\\hanna\\Anaconda3\\envs\\421-c\\lib\\site-packages\\gensim\\utils.py:862: UserWarning: detected Windows; aliasing chunkize to chunkize_serial\n",
      "  warnings.warn(\"detected Windows; aliasing chunkize to chunkize_serial\")\n",
      "Using TensorFlow backend.\n"
     ]
    }
   ],
   "source": [
    "import gensim\n",
    "import os\n",
    "import collections\n",
    "import smart_open\n",
    "import random\n",
    "import string\n",
    "from scipy import spatial"
   ]
  },
  {
   "cell_type": "code",
   "execution_count": 9,
   "metadata": {},
   "outputs": [],
   "source": [
    "# Gets positive and negative review folders\n",
    "base_data_dir = \"..\" + os.sep + \"txt_sentoken\"\n",
    "pos_files = base_data_dir + os.sep + 'pos'\n",
    "neg_files = base_data_dir + os.sep + 'neg'"
   ]
  },
  {
   "cell_type": "code",
   "execution_count": 10,
   "metadata": {
    "collapsed": true
   },
   "outputs": [],
   "source": [
    "def get_files(directory):\n",
    "    reviews = []\n",
    "    for filename in os.listdir(directory):\n",
    "        file = directory + os.sep + filename\n",
    "        with smart_open.smart_open(file, encoding=\"iso-8859-1\") as f:\n",
    "            review = bytearray()\n",
    "            for i, line in enumerate(f):\n",
    "                review += line\n",
    "            reviews.append(review)\n",
    "    return reviews"
   ]
  },
  {
   "cell_type": "code",
   "execution_count": 11,
   "metadata": {},
   "outputs": [],
   "source": [
    "# converts files\n",
    "pos_reviews = get_files(pos_files)\n",
    "neg_reviews = get_files(neg_files)\n",
    "random.shuffle(pos_reviews)\n",
    "random.shuffle(neg_reviews)"
   ]
  },
  {
   "cell_type": "code",
   "execution_count": 12,
   "metadata": {
    "collapsed": true
   },
   "outputs": [],
   "source": [
    "def read_corpus(filename, tokens_only=False):\n",
    "    with smart_open.smart_open(filename, encoding=\"iso-8859-1\") as f:\n",
    "        for i, line in enumerate(f):\n",
    "            if tokens_only:\n",
    "                yield gensim.utils.simple_preprocess(line)\n",
    "            else:\n",
    "                # For training data, add tags\n",
    "                yield gensim.models.doc2vec.TaggedDocument(gensim.utils.simple_preprocess(line), [i])"
   ]
  },
  {
   "cell_type": "code",
   "execution_count": 15,
   "metadata": {
    "collapsed": true
   },
   "outputs": [],
   "source": [
    "def test_train_split(docs, labels):\n",
    "    test = []\n",
    "    train = []\n",
    "    count = 0\n",
    "    for i, doc_set in enumerate(docs):\n",
    "        for j, doc in enumerate(doc_set):\n",
    "            if j < len(doc_set) / 2:\n",
    "                test.append({\"doc\": gensim.utils.simple_preprocess(doc_set[j]), \"label\": labels[i]})\n",
    "            else:\n",
    "                # For training data, add tags\n",
    "                res = gensim.models.doc2vec.TaggedDocument(gensim.utils.simple_preprocess(doc_set[j]), [count, labels[i]])\n",
    "                count += 1\n",
    "                train.append(res)\n",
    "    return test, train"
   ]
  },
  {
   "cell_type": "code",
   "execution_count": 16,
   "metadata": {},
   "outputs": [
    {
     "name": "stdout",
     "output_type": "stream",
     "text": [
      "[{'doc': ['minutes', 'not', 'rated', 'though', 'suspect', 'it', 'would', 'be', 'rated', 'pg', 'for', 'adult', 'themes', 'and', 'language', 'mamoru', 'oshii', 'is', 'name', 'that', 'probably', 'isn', 'very', 'well', 'known', 'to', 'most', 'american', 'audiences', 'but', 'perhaps', 'it', 'should', 'be', 'oshii', 'was', 'the', 'director', 'of', 'last', 'year', 'best', 'known', 'japanese', 'animated', 'film', 'import', 'in', 'the', 'shell_', 'and', 'is', 'known', 'among', 'fans', 'of', 'japanese', 'animation', 'or', 'anime', 'for', 'making', 'films', 'with', 'deep', 'philosophical', 'bent', 'one', 'of', 'these', 'films', 'was', 'the', 'first', 'theatrical', 'venture', 'for', 'the', 'patlabor', 'animated', 'series', 'in', 'its', 'many', 'incarnations', 'graphic', 'novels', 'manga', 'two', 'different', 'runs', 'of', 'made', 'for', 'video', 'episodes', 'original', 'animation', 'videos', 'or', 'oavs', 'for', 'short', 'and', 'television', 'series', 'running', 'to', 'nearly', 'fifty', 'episodes', 'patlabor', 'has', 'proven', 'to', 'be', 'one', 'of', 'the', 'most', 'popular', 'series', 'ever', 'in', 'japan', 'set', 'in', 'the', 'very', 'near', 'future', 'though', 'it', 'was', 'somewhat', 'farther', 'away', 'near', 'future', 'when', 'the', 'series', 'was', 'first', 'conceived', 'this', 'atypical', 'giant', 'robot', 'anime', 'features', 'the', 'characters', 'rather', 'than', 'the', 'machinery', 'as', 'the', 'primary', 'focus', 'as', 'whole', 'patlabor', 'is', 'the', 'story', 'of', 'an', 'exciting', 'time', 'for', 'japan', 'as', 'the', 'prologue', 'to', 'each', 'episode', 'of', 'the', 'television', 'series', 'explains', 'giant', 'industrial', 'robots', 'known', 'as', 'labors', 'an', 'interesting', 'play', 'on', 'words', 'considering', 'that', 'robot', 'is', 'derived', 'from', 'the', 'czech', 'word', 'for', 'labor', 'have', 'come', 'into', 'widespread', 'use', 'in', 'japan', 'toward', 'the', 'close', 'of', 'the', 'twentieth', 'century', 'with', 'the', 'rise', 'of', 'labors', 'however', 'has', 'come', 'new', 'menace', 'labor', 'crime', 'this', 'led', 'to', 'the', 'creation', 'of', 'the', 'two', 'special', 'vehicle', 'divisions', 'using', 'patrol', 'labors', 'to', 'fight', 'labor', 'crime', 'the', 'patlabor', 'story', 'centers', 'around', 'the', 'second', 'special', 'vehicle', 'division', 'sv', 'who', 'through', 'no', 'fault', 'of', 'their', 'own', 'have', 'acquired', 'bad', 'reputation', 'for', 'destructiveness', 'sometimes', 'utterly', 'hilarious', 'sometimes', 'almost', 'deadly', 'serious', 'the', 'patlabor', 'series', 'explores', 'the', 'interpersonal', 'relationships', 'of', 'the', 'special', 'vehicle', 'crewmembers', 'and', 'also', 'looks', 'at', 'the', 'effects', 'of', 'technology', 'on', 'modern', 'life', 'those', 'who', 'are', 'unfamiliar', 'with', 'the', 'patlabor', 'story', 'and', 'characters', 'may', 'find', 'themselves', 'slightly', 'confused', 'coming', 'into', 'the', 'movie', 'although', 'there', 'is', 'ample', 'background', 'exposition', 'provided', 'for', 'new', 'viewers', 'the', 'story', 'as', 'has', 'much', 'of', 'patlabor', 'before', 'centers', 'around', 'the', 'controversial', 'babylon', 'project', 'gigantic', 'seawall', 'that', 'will', 'on', 'its', 'completion', 'allow', 'the', 'reclamation', 'of', 'thousands', 'of', 'square', 'miles', 'of', 'land', 'from', 'tokyo', 'bay', 'this', 'project', 'has', 'been', 'an', 'almost', 'constant', 'target', 'of', 'terrorists', 'most', 'notably', 'the', 'house', 'of', 'sea', 'organization', 'however', 'the', 'threat', 'in', 'this', 'case', 'comes', 'not', 'from', 'any', 'terrorist', 'but', 'from', 'someone', 'who', 'is', 'already', 'dead', 'shinohara', 'heavy', 'industries', 'the', 'premier', 'labor', 'manufacturer', 'in', 'japan', 'if', 'not', 'the', 'whole', 'world', 'has', 'just', 'come', 'out', 'with', 'new', 'operating', 'system', 'that', 'increases', 'labors', 'movement', 'speed', 'and', 'efficiency', 'by', 'this', 'hyper', 'operating', 'system', 'hos', 'for', 'short', 'has', 'very', 'quickly', 'been', 'installed', 'into', 'well', 'over', 'of', 'the', 'nation', 'labors', 'including', 'the', 'patrol', 'labors', 'of', 'sv', 'since', 'that', 'installation', 'dozens', 'of', 'labors', 'including', 'heavily', 'armed', 'military', 'model', 'have', 'begun', 'to', 'go', 'on', 'berzerk', 'rampages', 'for', 'no', 'apparent', 'reason', 'and', 'the', 'only', 'factor', 'they', 'all', 'had', 'in', 'common', 'was', 'that', 'they', 'were', 'all', 'running', 'under', 'the', 'new', 'hos', 'some', 'wags', 'have', 'compared', 'this', 'to', 'windows', 'it', 'up', 'to', 'asuma', 'shinohara', 'labor', 'command', 'officer', 'with', 'sv', 'and', 'the', 'son', 'of', 'the', 'president', 'of', 'shinohara', 'heavy', 'industries', 'to', 'find', 'the', 'source', 'of', 'these', 'problems', 'before', 'more', 'labors', 'including', 'sv', 'own', 'fall', 'victim', 'to', 'them', 'and', 'before', 'hos', 'drags', 'his', 'father', 'company', 'down', 'with', 'it', 'as', 'was', 'the', 'case', 'with', 'in', 'the', 'shell_', 'if', 'you', 'just', 'want', 'no', 'brainer', 'actionfest', 'this', 'might', 'not', 'be', 'the', 'movie', 'for', 'you', 'the', 'movie_', 'is', 'more', 'of', 'psychological', 'thriller', 'technological', 'suspense', 'drama', 'it', 'is', 'closer', 'perhaps', 'to', 'chrichton', 'novel', 'than', 'to', 'an', 'action', 'movie', 'crichton', 'novels', 'that', 'have', 'been', 'made', 'action', 'movies', 'notwithstanding', 'there', 'are', 'long', 'thoughtful', 'montages', 'of', 'dialogueless', 'footage', 'as', 'two', 'investigators', 'make', 'their', 'way', 'through', 'slums', 'and', 'derelict', 'housing', 'in', 'old', 'quarters', 'of', 'tokyo', 'similar', 'to', 'sequences', 'from', 'in', 'the', 'shell_', 'this', 'movie', 'is', 'fraught', 'with', 'symbolism', 'in', 'fact', 'large', 'part', 'of', 'it', 'is', 'based', 'on', 'christian', 'symbolism', 'patlabor', 'near', 'future', 'setting', 'is', 'aside', 'from', 'the', 'giant', 'robots', 'tromping', 'around', 'very', 'similar', 'to', 'our', 'own', 'present', 'day', 'the', 'film', 'uses', 'this', 'setting', 'to', 'make', 'its', 'central', 'point', 'is', 'progress', 'moving', 'too', 'fast', 'for', 'humans', 'to', 'keep', 'up', 'are', 'history', 'and', 'culture', 'falling', 'by', 'the', 'wayside', 'like', 'the', 'old', 'buildings', 'that', 'are', 'being', 'torn', 'down', 'and', 'replaced', 'with', 'new', 'this', 'is', 'question', 'just', 'as', 'applicable', 'to', 'today', 'as', 'it', 'is', 'to', 'patlabor', 'alternate', 'setting', 'as', 'far', 'as', 'the', 'technical', 'aspects', 'of', 'the', 'film', 'go', 'referring', 'to', 'the', 'subtitled', 'version', 'as', 'that', 'the', 'only', 'one', 've', 'seen', 'the', 'film', 'transfer', 'is', 'clear', 'almost', 'phenomenally', 'so', 'the', 'animation', 'quality', 'is', 'incredible', 'though', 'the', 'character', 'design', 'is', 'different', 'from', 'what', 'most', 'patlabor', 'fans', 'will', 'be', 'used', 'to', 'the', 'oavs', 'and', 'tv', 'series', 'were', 'more', 'cheerful', 'better', 'suited', 'to', 'humor', 'the', 'movie', 'however', 'makes', 'everyone', 'look', 'great', 'deal', 'less', 'cute', 'and', 'emphasizes', 'that', 'this', 'is', 'going', 'to', 'be', 'for', 'the', 'most', 'part', 'deadly', 'serious', 'storyline', 'as', 'far', 'as', 'cinematography', 'goes', 'there', 'are', 'many', 'interesting', 'moments', 'in', 'the', 'movie_', 'don', 'think', 'can', 'recall', 'ever', 'seeing', 'fish', 'eye', 'perspective', 'used', 'in', 'any', 'other', 'animated', 'film', 'save', 'for', 'in', 'the', 'shell_', 'another', 'oshii', 'film', 'or', 'indeed', 'in', 'many', 'other', 'movies', 'at', 'all', 'the', 'cinematography', 'is', 'well', 'suited', 'to', 'the', 'storyline', 'emphasizing', 'what', 'it', 'needs', 'to', 'though', 'couple', 'of', 'scenes', 'where', 'characters', 'features', 'are', 'exaggerated', 'in', 'anger', 'may', 'seem', 'slightly', 'strange', 'to', 'western', 'audiences', 'the', 'audio', 'track', 'of', 'the', 'movie_', 'is', 'in', 'glorious', 'hi', 'fi', 'stereo', 'and', 'should', 'be', 'used', 'to', 'demonstrate', 'home', 'theater', 'systems', 'it', 'that', 'good', 'even', 'without', 'headphones', 'sounds', 'from', 'either', 'side', 'of', 'the', 'screen', 'can', 'be', 'clearly', 'heard', 'to', 'from', 'that', 'side', 'giant', 'robot', 'footsteps', 'are', 'deep', 'and', 'booming', 'the', 'sometimes', 'understated', 'sometimes', 'blaring', 'score', 'is', 'crisp', 'and', 'clear', 'and', 'always', 'right', 'on', 'the', 'mark', 'enhancing', 'the', 'moods', 'created', 'by', 'the', 'animated', 'scenery', 'as', 'far', 'as', 'the', 'subtitles', 'go', 'have', 'to', 'say', 'that', 'they', 're', 'among', 'the', 'most', 'easily', 'readable', 'subtitles', 've', 'ever', 'seen', 'for', 'large', 'enough', 'that', 'they', 'don', 'strain', 'the', 'eyes', 'but', 'small', 'enough', 'not', 'to', 'conceal', 'too', 'much', 'of', 'the', 'screen', 'although', 'it', 'does', 'have', 'several', 'action', 'sequences', 'in', 'it', 'most', 'notably', 'the', 'climactic', 'conclusion', 'is', 'foremost', 'not', 'an', 'action', 'movie', 'although', 'it', 'is', 'superbly', 'realized', 'film', 'it', 'relies', 'in', 'large', 'part', 'upon', 'prior', 'familiarity', 'with', 'some', 'of', 'the', 'characters', 'to', 'carry', 'the', 'story', 'and', 'that', 'could', 'detract', 'from', 'some', 'people', 'enjoyment', 'my'], 'label': 'pos'}]\n",
      "[{'doc': ['minutes', 'not', 'rated', 'though', 'suspect', 'it', 'would', 'be', 'rated', 'pg', 'for', 'adult', 'themes', 'and', 'language', 'mamoru', 'oshii', 'is', 'name', 'that', 'probably', 'isn', 'very', 'well', 'known', 'to', 'most', 'american', 'audiences', 'but', 'perhaps', 'it', 'should', 'be', 'oshii', 'was', 'the', 'director', 'of', 'last', 'year', 'best', 'known', 'japanese', 'animated', 'film', 'import', 'in', 'the', 'shell_', 'and', 'is', 'known', 'among', 'fans', 'of', 'japanese', 'animation', 'or', 'anime', 'for', 'making', 'films', 'with', 'deep', 'philosophical', 'bent', 'one', 'of', 'these', 'films', 'was', 'the', 'first', 'theatrical', 'venture', 'for', 'the', 'patlabor', 'animated', 'series', 'in', 'its', 'many', 'incarnations', 'graphic', 'novels', 'manga', 'two', 'different', 'runs', 'of', 'made', 'for', 'video', 'episodes', 'original', 'animation', 'videos', 'or', 'oavs', 'for', 'short', 'and', 'television', 'series', 'running', 'to', 'nearly', 'fifty', 'episodes', 'patlabor', 'has', 'proven', 'to', 'be', 'one', 'of', 'the', 'most', 'popular', 'series', 'ever', 'in', 'japan', 'set', 'in', 'the', 'very', 'near', 'future', 'though', 'it', 'was', 'somewhat', 'farther', 'away', 'near', 'future', 'when', 'the', 'series', 'was', 'first', 'conceived', 'this', 'atypical', 'giant', 'robot', 'anime', 'features', 'the', 'characters', 'rather', 'than', 'the', 'machinery', 'as', 'the', 'primary', 'focus', 'as', 'whole', 'patlabor', 'is', 'the', 'story', 'of', 'an', 'exciting', 'time', 'for', 'japan', 'as', 'the', 'prologue', 'to', 'each', 'episode', 'of', 'the', 'television', 'series', 'explains', 'giant', 'industrial', 'robots', 'known', 'as', 'labors', 'an', 'interesting', 'play', 'on', 'words', 'considering', 'that', 'robot', 'is', 'derived', 'from', 'the', 'czech', 'word', 'for', 'labor', 'have', 'come', 'into', 'widespread', 'use', 'in', 'japan', 'toward', 'the', 'close', 'of', 'the', 'twentieth', 'century', 'with', 'the', 'rise', 'of', 'labors', 'however', 'has', 'come', 'new', 'menace', 'labor', 'crime', 'this', 'led', 'to', 'the', 'creation', 'of', 'the', 'two', 'special', 'vehicle', 'divisions', 'using', 'patrol', 'labors', 'to', 'fight', 'labor', 'crime', 'the', 'patlabor', 'story', 'centers', 'around', 'the', 'second', 'special', 'vehicle', 'division', 'sv', 'who', 'through', 'no', 'fault', 'of', 'their', 'own', 'have', 'acquired', 'bad', 'reputation', 'for', 'destructiveness', 'sometimes', 'utterly', 'hilarious', 'sometimes', 'almost', 'deadly', 'serious', 'the', 'patlabor', 'series', 'explores', 'the', 'interpersonal', 'relationships', 'of', 'the', 'special', 'vehicle', 'crewmembers', 'and', 'also', 'looks', 'at', 'the', 'effects', 'of', 'technology', 'on', 'modern', 'life', 'those', 'who', 'are', 'unfamiliar', 'with', 'the', 'patlabor', 'story', 'and', 'characters', 'may', 'find', 'themselves', 'slightly', 'confused', 'coming', 'into', 'the', 'movie', 'although', 'there', 'is', 'ample', 'background', 'exposition', 'provided', 'for', 'new', 'viewers', 'the', 'story', 'as', 'has', 'much', 'of', 'patlabor', 'before', 'centers', 'around', 'the', 'controversial', 'babylon', 'project', 'gigantic', 'seawall', 'that', 'will', 'on', 'its', 'completion', 'allow', 'the', 'reclamation', 'of', 'thousands', 'of', 'square', 'miles', 'of', 'land', 'from', 'tokyo', 'bay', 'this', 'project', 'has', 'been', 'an', 'almost', 'constant', 'target', 'of', 'terrorists', 'most', 'notably', 'the', 'house', 'of', 'sea', 'organization', 'however', 'the', 'threat', 'in', 'this', 'case', 'comes', 'not', 'from', 'any', 'terrorist', 'but', 'from', 'someone', 'who', 'is', 'already', 'dead', 'shinohara', 'heavy', 'industries', 'the', 'premier', 'labor', 'manufacturer', 'in', 'japan', 'if', 'not', 'the', 'whole', 'world', 'has', 'just', 'come', 'out', 'with', 'new', 'operating', 'system', 'that', 'increases', 'labors', 'movement', 'speed', 'and', 'efficiency', 'by', 'this', 'hyper', 'operating', 'system', 'hos', 'for', 'short', 'has', 'very', 'quickly', 'been', 'installed', 'into', 'well', 'over', 'of', 'the', 'nation', 'labors', 'including', 'the', 'patrol', 'labors', 'of', 'sv', 'since', 'that', 'installation', 'dozens', 'of', 'labors', 'including', 'heavily', 'armed', 'military', 'model', 'have', 'begun', 'to', 'go', 'on', 'berzerk', 'rampages', 'for', 'no', 'apparent', 'reason', 'and', 'the', 'only', 'factor', 'they', 'all', 'had', 'in', 'common', 'was', 'that', 'they', 'were', 'all', 'running', 'under', 'the', 'new', 'hos', 'some', 'wags', 'have', 'compared', 'this', 'to', 'windows', 'it', 'up', 'to', 'asuma', 'shinohara', 'labor', 'command', 'officer', 'with', 'sv', 'and', 'the', 'son', 'of', 'the', 'president', 'of', 'shinohara', 'heavy', 'industries', 'to', 'find', 'the', 'source', 'of', 'these', 'problems', 'before', 'more', 'labors', 'including', 'sv', 'own', 'fall', 'victim', 'to', 'them', 'and', 'before', 'hos', 'drags', 'his', 'father', 'company', 'down', 'with', 'it', 'as', 'was', 'the', 'case', 'with', 'in', 'the', 'shell_', 'if', 'you', 'just', 'want', 'no', 'brainer', 'actionfest', 'this', 'might', 'not', 'be', 'the', 'movie', 'for', 'you', 'the', 'movie_', 'is', 'more', 'of', 'psychological', 'thriller', 'technological', 'suspense', 'drama', 'it', 'is', 'closer', 'perhaps', 'to', 'chrichton', 'novel', 'than', 'to', 'an', 'action', 'movie', 'crichton', 'novels', 'that', 'have', 'been', 'made', 'action', 'movies', 'notwithstanding', 'there', 'are', 'long', 'thoughtful', 'montages', 'of', 'dialogueless', 'footage', 'as', 'two', 'investigators', 'make', 'their', 'way', 'through', 'slums', 'and', 'derelict', 'housing', 'in', 'old', 'quarters', 'of', 'tokyo', 'similar', 'to', 'sequences', 'from', 'in', 'the', 'shell_', 'this', 'movie', 'is', 'fraught', 'with', 'symbolism', 'in', 'fact', 'large', 'part', 'of', 'it', 'is', 'based', 'on', 'christian', 'symbolism', 'patlabor', 'near', 'future', 'setting', 'is', 'aside', 'from', 'the', 'giant', 'robots', 'tromping', 'around', 'very', 'similar', 'to', 'our', 'own', 'present', 'day', 'the', 'film', 'uses', 'this', 'setting', 'to', 'make', 'its', 'central', 'point', 'is', 'progress', 'moving', 'too', 'fast', 'for', 'humans', 'to', 'keep', 'up', 'are', 'history', 'and', 'culture', 'falling', 'by', 'the', 'wayside', 'like', 'the', 'old', 'buildings', 'that', 'are', 'being', 'torn', 'down', 'and', 'replaced', 'with', 'new', 'this', 'is', 'question', 'just', 'as', 'applicable', 'to', 'today', 'as', 'it', 'is', 'to', 'patlabor', 'alternate', 'setting', 'as', 'far', 'as', 'the', 'technical', 'aspects', 'of', 'the', 'film', 'go', 'referring', 'to', 'the', 'subtitled', 'version', 'as', 'that', 'the', 'only', 'one', 've', 'seen', 'the', 'film', 'transfer', 'is', 'clear', 'almost', 'phenomenally', 'so', 'the', 'animation', 'quality', 'is', 'incredible', 'though', 'the', 'character', 'design', 'is', 'different', 'from', 'what', 'most', 'patlabor', 'fans', 'will', 'be', 'used', 'to', 'the', 'oavs', 'and', 'tv', 'series', 'were', 'more', 'cheerful', 'better', 'suited', 'to', 'humor', 'the', 'movie', 'however', 'makes', 'everyone', 'look', 'great', 'deal', 'less', 'cute', 'and', 'emphasizes', 'that', 'this', 'is', 'going', 'to', 'be', 'for', 'the', 'most', 'part', 'deadly', 'serious', 'storyline', 'as', 'far', 'as', 'cinematography', 'goes', 'there', 'are', 'many', 'interesting', 'moments', 'in', 'the', 'movie_', 'don', 'think', 'can', 'recall', 'ever', 'seeing', 'fish', 'eye', 'perspective', 'used', 'in', 'any', 'other', 'animated', 'film', 'save', 'for', 'in', 'the', 'shell_', 'another', 'oshii', 'film', 'or', 'indeed', 'in', 'many', 'other', 'movies', 'at', 'all', 'the', 'cinematography', 'is', 'well', 'suited', 'to', 'the', 'storyline', 'emphasizing', 'what', 'it', 'needs', 'to', 'though', 'couple', 'of', 'scenes', 'where', 'characters', 'features', 'are', 'exaggerated', 'in', 'anger', 'may', 'seem', 'slightly', 'strange', 'to', 'western', 'audiences', 'the', 'audio', 'track', 'of', 'the', 'movie_', 'is', 'in', 'glorious', 'hi', 'fi', 'stereo', 'and', 'should', 'be', 'used', 'to', 'demonstrate', 'home', 'theater', 'systems', 'it', 'that', 'good', 'even', 'without', 'headphones', 'sounds', 'from', 'either', 'side', 'of', 'the', 'screen', 'can', 'be', 'clearly', 'heard', 'to', 'from', 'that', 'side', 'giant', 'robot', 'footsteps', 'are', 'deep', 'and', 'booming', 'the', 'sometimes', 'understated', 'sometimes', 'blaring', 'score', 'is', 'crisp', 'and', 'clear', 'and', 'always', 'right', 'on', 'the', 'mark', 'enhancing', 'the', 'moods', 'created', 'by', 'the', 'animated', 'scenery', 'as', 'far', 'as', 'the', 'subtitles', 'go', 'have', 'to', 'say', 'that', 'they', 're', 'among', 'the', 'most', 'easily', 'readable', 'subtitles', 've', 'ever', 'seen', 'for', 'large', 'enough', 'that', 'they', 'don', 'strain', 'the', 'eyes', 'but', 'small', 'enough', 'not', 'to', 'conceal', 'too', 'much', 'of', 'the', 'screen', 'although', 'it', 'does', 'have', 'several', 'action', 'sequences', 'in', 'it', 'most', 'notably', 'the', 'climactic', 'conclusion', 'is', 'foremost', 'not', 'an', 'action', 'movie', 'although', 'it', 'is', 'superbly', 'realized', 'film', 'it', 'relies', 'in', 'large', 'part', 'upon', 'prior', 'familiarity', 'with', 'some', 'of', 'the', 'characters', 'to', 'carry', 'the', 'story', 'and', 'that', 'could', 'detract', 'from', 'some', 'people', 'enjoyment', 'my'], 'label': 'pos'}, {'doc': ['the', 'great', 'actor', 'james', 'woods', 'once', 'said', 'and', 'paraphrasing', 'if', 'sex', 'isn', 'messy', 'then', 'you', 're', 'not', 'doing', 'it', 'right', 'truly', 'profound', 'statement', 'and', 'one', 'that', 'could', 'be', 'made', 'for', 'the', 'entire', 'mad', 'slasher', 'genre', 'just', 'replace', 'sex', 'with', 'your', 'mad', 'slasher', 'film', 'for', 'those', 'uninformed', 'souls', 'the', 'mad', 'slasher', 'genre', 'or', 'sub', 'genre', 'is', 'melding', 'of', 'horror', 'and', 'exploitation', 'elements', 'put', 'to', 'the', 'service', 'of', 'plot', 'that', 'follows', 'an', 'identical', 'outline', 'usually', 'masked', 'but', 'always', 'crazed', 'killer', 'stalks', 'and', 'kills', 'attractive', 'teens', 'la', 'halloween', 'urban', 'legend', 'is', 'mad', 'slasher', 'flick', 'but', 'one', 'that', 'is', 'so', 'sanitary', 'bloodless', 'and', 'nudity', 'free', 'that', 'with', 'its', 'irony', 'laden', 'dialogue', 'and', 'beautiful', 'though', 'not', 'overly', 'talented', 'cast', 'it', 'more', 'closely', 'resembles', 'an', 'overlong', 'wb', 'television', 'special', 'for', 'film', 'makers', 'gore', 'is', 'one', 'of', 'the', 'two', 'weapons', 'they', 'have', 'at', 'their', 'disposal', 'in', 'stale', 'fright', 'free', 'horror', 'movie', 'as', 'stephen', 'king', 'once', 'said', 'again', 'paraphrasing', 'if', 'you', 'can', 'scare', 'your', 'audience', 'gross', 'em', 'out', 'if', 'you', 'can', 'do', 'that', 'make', 'em', 'laugh', 'alas', 'urban', 'legend', 'succeeds', 'only', 'at', 'the', 'latter', 'though', 'not', 'by', 'intention', 'actually', 'find', 'the', 'fact', 'that', 'this', 'film', 'became', 'minor', 'success', 'million', 'domestic', 'box', 'office', 'gross', 'more', 'frightening', 'than', 'anything', 'in', 'it', 'it', 'seems', 'that', 'audiences', 'tastes', 'have', 'been', 'whittled', 'down', 'to', 'such', 'degree', 'that', 'any', 'movie', 'even', 'claiming', 'to', 'be', 'scary', 'is', 'given', 'the', 'benefit', 'of', 'the', 'doubt', 'the', 'promotion', 'for', 'urban', 'legend', 'sure', 'promised', 'thrills', 'but', 'how', 'can', 'anyone', 'with', 'three', 'digit', 'iq', 'argue', 'that', 'it', 'provides', 'them', 'unfortunately', 'these', 'kinds', 'of', 'flicks', 'will', 'continue', 'to', 'be', 'produced', 'because', 'people', 'no', 'longer', 'have', 'expectations', 'one', 'idiotic', 'super', 'hyped', 'blockbuster', 'flick', 'after', 'another', 'has', 'desensitized', 'audiences', 'to', 'the', 'point', 'where', 'films', 'don', 'need', 'to', 'do', 'anything', 'more', 'than', 'promise', 'good', 'time', 'without', 'the', 'added', 'pressure', 'of', 'delivering', 'if', 'anyone', 'disagrees', 'would', 'love', 'for', 'them', 'to', 'explain', 'the', 'box', 'office', 'successes', 'of', 'shit', 'like', 'batman', 'and', 'robin', 'wild', 'wild', 'west', 'and', 'godzilla', 'but', 'forget', 'all', 'that', 'it', 'goes', 'without', 'saying', 'that', 'mad', 'slasher', 'films', 'or', 'any', 'other', 'exploitation', 'off', 'shoot', 'will', 'be', 'made', 'without', 'an', 'ounce', 'of', 'craft', 'especially', 'considering', 'the', 'sheer', 'volume', 'that', 'are', 'produced', 'allow', 'me', 'to', 'present', 'you', 'with', 'the', 'real', 'fault', 'of', 'the', 'mad', 'slasher', 'film', 'the', 'lack', 'of', 'enthusiastic', 'exploitation', 'these', 'flicks', 'aren', 'harnessed', 'with', 'any', 'lofty', 'aspirations', 'so', 'why', 'not', 'break', 'free', 'and', 'give', 'your', 'audience', 'bloody', 'good', 'time', 'sadly', 'out', 'of', 'the', 'literally', 'hundreds', 'made', 'would', 'estimate', 'that', 'maybe', 'three', 'are', 'at', 'all', 'worth', 'while', 'and', 'urban', 'legend', 'would', 'certainly', 'not', 'be', 'included', 'amongst', 'those', 'three', 'despite', 'its', 'considerable', 'production', 'value', 'and', 'the', 'absence', 'of', 'any', 'boom', 'mics', 'slipping', 'into', 'frame', 'it', 'is', 'just', 'as', 'awful', 'as', 'any', 'no', 'budget', 'entry', 'in', 'the', 'slasher', 'sweepstakes', 'as', 'far', 'as', 'the', 'possibility', 'of', 'some', 'good', 'natured', 'exploitation', 'urban', 'legend', 'setting', 'alone', 'offers', 'myriad', 'of', 'promising', 'possibilities', 'it', 'takes', 'place', 'on', 'college', 'campus', 'which', 'is', 'always', 'an', 'appropriate', 'playground', 'for', 'the', 'crazed', 'killer', 'you', 'see', 'the', 'campus', 'is', 'community', 'made', 'up', 'almost', 'entirely', 'of', 'young', 'people', 'all', 'in', 'the', 'midst', 'of', 'strange', 'hormonal', 'surges', 'percolating', 'beneath', 'the', 'surface', 'all', 'those', 'young', 'people', 'are', 'growing', 'up', 'together', 'going', 'through', 'all', 'kinds', 'of', 'inexplicable', 'emotional', 'highs', 'and', 'lows', 'so', 'naturally', 'some', 'weirdness', 'is', 'expected', 'all', 'the', 'better', 'for', 'that', 'elusive', 'crazed', 'killer', 'coupled', 'with', 'the', 'copious', 'amounts', 'of', 'scantily', 'clad', 'coeds', 'running', 'around', 'and', 'the', 'introduction', 'of', 'little', 'exploitation', 'into', 'the', 'proceedings', 'should', 'be', 'relatively', 'easy', 'task', 'but', 'alas', 'urban', 'legend', 'is', 'not', 'only', 'idiotic', 'and', 'clich', 'full', 'it', 'way', 'too', 'clean', 'slasher', 'flick', 'for', 'the', 'whole', 'family', 'with', 'no', 'nudity', 'little', 'gore', 'and', 'much', 'stupidity', 'this', 'is', 'the', 'kind', 'of', 'movie', 'where', 'the', 'killer', 'drags', 'dead', 'victims', 'from', 'the', 'scene', 'of', 'the', 'crime', 'for', 'no', 'reason', 'other', 'than', 'dunno', 'exercise', 'it', 'the', 'kind', 'of', 'movie', 'where', 'the', 'villain', 'calmly', 'purses', 'running', 'like', 'the', 'wind', 'prey', 'yet', 'still', 'manages', 'to', 'catch', 'that', 'prey', 'through', 'some', 'really', 'awful', 'editing', 'techniques', 'it', 'the', 'kind', 'of', 'movie', 'where', 'characters', 'run', 'into', 'each', 'other', 'just', 'as', 'loud', 'clash', 'reverberates', 'on', 'the', 'soundtrack', 'really', 'wish', 'filmmakers', 'would', 'just', 'retire', 'that', 'whole', 'loud', 'noise', 'jump', 'scare', 'thing', 'yes', 'the', 'audience', 'jumps', 'momentarily', 'frightened', 'but', 'wouldn', 'anyone', 'if', 'loud', 'sonic', 'boom', 'suddenly', 'infiltrated', 'quiet', 'room', 'lost', 'all', 'hope', 'for', 'the', 'possibility', 'of', 'any', 'genuine', 'scares', 'in', 'urban', 'legend', 'about', 'ten', 'minutes', 'in', 'when', 'caught', 'glimpse', 'of', 'the', 'killer', 'apparently', 'filmmakers', 'are', 'running', 'out', 'of', 'creative', 'ways', 'to', 'disguise', 'their', 'mad', 'slashers', 'in', 'scream', 'it', 'was', 'ghost', 'mask', 'scary', 'enough', 'in', 'know', 'what', 'you', 'did', 'last', 'summer', 'it', 'was', 'fisher', 'man', 'rain', 'slicker', 'in', 'the', 'middle', 'of', 'summer', 'no', 'less', 'and', 'in', 'urban', 'legend', 'the', 'disguise', 'sinks', 'to', 'the', 'level', 'of', 'mel', 'brooks', 'parody', 'the', 'villain', 'wears', 'an', 'oversized', 'parka', 'with', 'fury', 'hood', 'ooh', 'scary', 'intended', 'to', 'conceal', 'his', 'her', 'identity', 'for', 'urban', 'legend', 'humbly', 'suggest', 'donald', 'duck', 'costume', 'though', 'must', 'admit', 'urban', 'legend', 'does', 'have', 'winning', 'premise', 'for', 'what', 'could', 'have', 'been', 'somewhat', 'entertaining', 'exploitation', 'film', 'the', 'film', 'killer', 'slices', 'and', 'dices', 'comely', 'college', 'students', 'to', 'the', 'tune', 'of', 'famous', 'urban', 'legends', 'you', 'know', 'like', 'the', 'babysitter', 'gets', 'threatening', 'phone', 'calls', 'only', 'to', 'find', 'that', 'they', 're', 'coming', 'from', 'inside', 'the', 'house', 'won', 'spoil', 'the', 'surprise', 'as', 'to', 'what', 'urban', 'legends', 'are', 'used', 'after', 'all', 'the', 'film', 'does', 'offer', 'fine', 'am', 'cable', 'viewing', 'if', 'you', 'happen', 'to', 'be', 'intoxicated', 'enough', 'sad', 'to', 'say', 'it', 'doesn', 'include', 'my', 'favorite', 'urban', 'legend', 'fairly', 'graphic', 'antidote', 'concerning', 'richard', 'gere', 'and', 'very', 'unhappy', 'gerbil', 'now', 'that', 'would', 'be', 'scary', 'before', 'leave', 'you', 'would', 'like', 'to', 'bring', 'to', 'your', 'attention', 'the', 'third', 'most', 'irritating', 'thing', 'about', 'the', 'film', 'the', 'first', 'being', 'the', 'lack', 'of', 'craft', 'the', 'second', 'the', 'lack', 'of', 'exploitation', 'its', 'characters', 'all', 'of', 'whom', 'are', 'just', 'about', 'the', 'most', 'annoying', 'group', 'of', 'people', 've', 'ever', 'spent', 'an', 'evening', 'with', 'only', 'jared', 'leto', 'looking', 'like', 'carbon', 'copy', 'of', 'rob', 'lowe', 'from', 'back', 'in', 'the', 'day', 'and', 'alicia', 'witt', 'as', 'the', 'resilient', 'heroine', 'avoid', 'vexatiousness', 'the', 'most', 'annoying', 'of', 'the', 'bunch', 'is', 'tie', 'between', 'noxima', 'girl', 'rebecca', 'gayheart', 'and', 'sitcom', 'star', 'michael', 'rosenbaum', 'as', 'supremely', 'irritating', 'lout', 'so', 'irritating', 'actually', 'cheered', 'his', 'painful', 'death', 'and', 'am', 'not', 'cruel', 'person', 'ironically', 'those', 'aggravating', 'sacks', 'of', 'human', 'waste', 'provide', 'the', 'only', 'entertainment', 'in', 'the', 'film', 'if', 'viewed', 'as', 'vicarious', 'fantasy', 'urban', 'legend', 'can', 'be', 'mildly', 'entertaining', 'after', 'all', 'this', 'is', 'movie', 'that', 'features', 'the', 'kind', 'of', 'faux', 'hipsters', 'can', 'stand', 'getting', 'slaughtered', 'which', 'is', 'at', 'least', 'better', 'than', 'watching', 'an', 'entire', 'film', 'about', 'people', 'can', 'stand', 'not', 'getting', 'slaughtered'], 'label': 'neg'}]\n"
     ]
    }
   ],
   "source": [
    "test_corpus, train_corpus = test_train_split([pos_reviews, neg_reviews], [\"pos\", \"neg\"])\n",
    "random.shuffle(train_corpus)\n",
    "random.shuffle(test_corpus)\n",
    "# print(train_corpus)\n",
    "# print(test_corpus)"
   ]
  },
  {
   "cell_type": "code",
   "execution_count": 16,
   "metadata": {
    "collapsed": true
   },
   "outputs": [],
   "source": [
    "model = gensim.models.doc2vec.Doc2Vec(size=100, min_count=10, iter=200) \n",
    "# size is vector size\n",
    "# min_count is the number of times a word needs to be used\n",
    "#iter is number of training iterations"
   ]
  },
  {
   "cell_type": "code",
   "execution_count": 17,
   "metadata": {
    "collapsed": true
   },
   "outputs": [],
   "source": [
    "# gets vocab\n",
    "model.build_vocab(train_corpus)"
   ]
  },
  {
   "cell_type": "code",
   "execution_count": 18,
   "metadata": {},
   "outputs": [
    {
     "name": "stdout",
     "output_type": "stream",
     "text": [
      "Wall time: 1min 44s\n"
     ]
    },
    {
     "data": {
      "text/plain": [
       "84975058"
      ]
     },
     "execution_count": 18,
     "metadata": {},
     "output_type": "execute_result"
    }
   ],
   "source": [
    "#trains model on texts\n",
    "%time model.train(train_corpus, total_examples=model.corpus_count, epochs=model.iter)"
   ]
  },
  {
   "cell_type": "code",
   "execution_count": 19,
   "metadata": {
    "collapsed": true
   },
   "outputs": [],
   "source": [
    "#assess model\n",
    "ranks = []\n",
    "second_ranks = []\n",
    "for doc_id in range(len(train_corpus)):\n",
    "    inferred_vector = model.infer_vector(train_corpus[doc_id].words)\n",
    "    sims = model.docvecs.most_similar([inferred_vector], topn=len(model.docvecs))\n",
    "    rank = [docid for docid, sim in sims].index(doc_id)\n",
    "    ranks.append(rank)\n",
    "    \n",
    "    second_ranks.append(sims[1])"
   ]
  },
  {
   "cell_type": "code",
   "execution_count": 20,
   "metadata": {
    "collapsed": true
   },
   "outputs": [],
   "source": [
    "# counts what ranks each document was classified as\n",
    "# collections.Counter(ranks)  # Results vary due to random seeding and very small corpus"
   ]
  },
  {
   "cell_type": "code",
   "execution_count": 21,
   "metadata": {},
   "outputs": [
    {
     "name": "stdout",
     "output_type": "stream",
     "text": [
      "0.79\n"
     ]
    }
   ],
   "source": [
    "correct = 0\n",
    "pos_vec = model.docvecs['pos']\n",
    "neg_vec = model.docvecs['neg']\n",
    "for doc in test_corpus:\n",
    "    inferred_vector = model.infer_vector(doc[\"doc\"])\n",
    "    pos_dist = spatial.distance.cosine(inferred_vector, pos_vec)\n",
    "    neg_dist = spatial.distance.cosine(inferred_vector, neg_vec)\n",
    "    if pos_dist < neg_dist and doc[\"label\"] == \"pos\":        \n",
    "        correct += 1\n",
    "    elif neg_dist < pos_dist and doc[\"label\"] == \"neg\":\n",
    "        correct += 1\n",
    "print(correct / len(test_corpus))"
   ]
  },
  {
   "cell_type": "code",
   "execution_count": 22,
   "metadata": {
    "collapsed": true
   },
   "outputs": [],
   "source": [
    "model.save('./imdb.d2v')"
   ]
  },
  {
   "cell_type": "code",
   "execution_count": null,
   "metadata": {
    "collapsed": true
   },
   "outputs": [],
   "source": []
  }
 ],
 "metadata": {
  "kernelspec": {
   "display_name": "421-c",
   "language": "python",
   "name": "421-c"
  },
  "language_info": {
   "codemirror_mode": {
    "name": "ipython",
    "version": 3
   },
   "file_extension": ".py",
   "mimetype": "text/x-python",
   "name": "python",
   "nbconvert_exporter": "python",
   "pygments_lexer": "ipython3",
   "version": "3.5.3"
  }
 },
 "nbformat": 4,
 "nbformat_minor": 2
}
